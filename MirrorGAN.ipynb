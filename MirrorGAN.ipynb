{
  "nbformat": 4,
  "nbformat_minor": 0,
  "metadata": {
    "colab": {
      "name": "MirrorGAN.ipynb",
      "provenance": [],
      "collapsed_sections": []
    },
    "kernelspec": {
      "name": "python3",
      "display_name": "Python 3"
    },
    "accelerator": "GPU"
  },
  "cells": [
    {
      "cell_type": "code",
      "metadata": {
        "id": "PVjxLWfuoDwS",
        "colab_type": "code",
        "colab": {}
      },
      "source": [
        "import os"
      ],
      "execution_count": 1,
      "outputs": []
    },
    {
      "cell_type": "code",
      "metadata": {
        "id": "HlcYXI34T5bU",
        "colab_type": "code",
        "colab": {}
      },
      "source": [
        "os.chdir('/content')\n",
        "!rm -r MirrorGAN\n",
        "!git clone https://github.com/qiaott/MirrorGAN.git"
      ],
      "execution_count": null,
      "outputs": []
    },
    {
      "cell_type": "code",
      "metadata": {
        "id": "u7SU-8OEUQ7u",
        "colab_type": "code",
        "colab": {}
      },
      "source": [
        "os.chdir('/content') \n",
        "os.mkdir('data')\n",
        "os.chdir('/content/data') \n",
        "!wget --load-cookies /tmp/cookies.txt \"https://docs.google.com/uc?export=download&confirm=$(wget --quiet --save-cookies /tmp/cookies.txt --keep-session-cookies --no-check-certificate 'https://docs.google.com/uc?export=download&id=1CuW5ognTSkNbyx9TWoUFrgwqxZNk1cl0' -O- | sed -rn 's/.*confirm=([0-9A-Za-z_]+).*/\\1\\n/p')&id=1CuW5ognTSkNbyx9TWoUFrgwqxZNk1cl0\" -O data.zip && rm -rf /tmp/cookies.txt\n",
        "!unzip -q data.zip\n",
        "!rm data.zip\n",
        "!rm -r __MACOSX/"
      ],
      "execution_count": null,
      "outputs": []
    },
    {
      "cell_type": "code",
      "metadata": {
        "id": "sXBw8LmyxErC",
        "colab_type": "code",
        "colab": {}
      },
      "source": [
        "os.chdir('/content')\n",
        "!git clone https://github.com/ammarnasr/CUB-Attn-GAN.git\n",
        "\n",
        "os.chdir('/content/data') \n",
        "!rm -r STEM/\n",
        "os.mkdir('STEM')\n",
        "os.chdir('/content/data/STEM')\n",
        "\n",
        "!mv /content/CUB-Attn-GAN/theModel/text_encoder599.pth /content/data/STEM/\n",
        "!mv /content/CUB-Attn-GAN/theModel/image_encoder599.pth /content/data/STEM/\n",
        "\n",
        "!mv text_encoder599.pth text_encoder.pth\n",
        "!mv image_encoder599.pth image_encoder.pth\n",
        "\n",
        "!rm -r /content/CUB-Attn-GAN/\n"
      ],
      "execution_count": null,
      "outputs": []
    },
    {
      "cell_type": "code",
      "metadata": {
        "id": "aRkiFyx1qkD4",
        "colab_type": "code",
        "colab": {}
      },
      "source": [
        "os.chdir('/content/data') \n",
        "!rm -r STREAM/\n",
        "os.mkdir('STREAM')\n",
        "os.chdir('/content/data/STREAM')\n",
        "\n",
        "!wget https://www.dropbox.com/s/ne0ixz5d58ccbbz/pretrained_model.zip\n",
        "!unzip -q pretrained_model.zip\n",
        "!rm pretrained_model.zip"
      ],
      "execution_count": null,
      "outputs": []
    },
    {
      "cell_type": "markdown",
      "metadata": {
        "id": "Me0BOJrfZHrG",
        "colab_type": "text"
      },
      "source": [
        "# ======================================================================="
      ]
    },
    {
      "cell_type": "code",
      "metadata": {
        "id": "YybaFtWtuXsT",
        "colab_type": "code",
        "colab": {}
      },
      "source": [
        "os.chdir('/content')\n",
        "!rm -r mirrorGAN\n",
        "!git clone https://github.com/ammarnasr/mirrorGAN.git\n",
        "\n",
        "!rm /content/mirrorGAN/README.md\n",
        "!rm /content/mirrorGAN/MirrorGAN.ipynb\n",
        "!rm /content/mirrorGAN/do_train.sh\n",
        "\n",
        "!mv /content/mirrorGAN/config.py /content/MirrorGAN/cfg/\n",
        "!mv /content/mirrorGAN/train_bird.yml /content/MirrorGAN/cfg/\n",
        "\n",
        "!mv /content/mirrorGAN/datasets.py /content/MirrorGAN/\n",
        "!mv /content/mirrorGAN/model.py /content/MirrorGAN/\n",
        "!mv /content/mirrorGAN/trainer.py /content/MirrorGAN/\n",
        "!mv /content/mirrorGAN/main.py /content/MirrorGAN/\n",
        "\n",
        "!mv /content/mirrorGAN/attn_captions.pickle /content/data/birds/"
      ],
      "execution_count": null,
      "outputs": []
    },
    {
      "cell_type": "code",
      "metadata": {
        "id": "Q8mG_vcAqTKr",
        "colab_type": "code",
        "colab": {}
      },
      "source": [
        "os.chdir('/content/MirrorGAN') \n",
        "! ./do_train.sh"
      ],
      "execution_count": null,
      "outputs": []
    },
    {
      "cell_type": "markdown",
      "metadata": {
        "id": "hHpO_OgX5cKj",
        "colab_type": "text"
      },
      "source": [
        "# ======================================================================="
      ]
    },
    {
      "cell_type": "code",
      "metadata": {
        "id": "VQrzdksT5eFl",
        "colab_type": "code",
        "colab": {}
      },
      "source": [
        "os.chdir('/content')\n",
        "!rm -r coco\n",
        "!git clone https://github.com/pdollar/coco.git\n",
        "os.chdir('/content/coco/PythonAPI/')\n",
        "!make\n",
        "!python setup.py build\n",
        "!python setup.py install\n",
        "\n",
        "os.chdir('/content')\n",
        "!rm -r pytorch-tutorial\n",
        "!git clone https://github.com/yunjey/pytorch-tutorial.git"
      ],
      "execution_count": null,
      "outputs": []
    },
    {
      "cell_type": "code",
      "metadata": {
        "id": "cI2N3RQd6umP",
        "colab_type": "code",
        "colab": {}
      },
      "source": [
        "!mv /content/mirrorGAN/download.sh /content/pytorch-tutorial/tutorials/03-advanced/image_captioning/data/\n",
        "\n",
        "os.chdir('/content/pytorch-tutorial/tutorials/03-advanced/image_captioning/')\n",
        "!pip install -r requirements.txt\n",
        "!chmod +x download.sh\n",
        "!./download.sh"
      ],
      "execution_count": null,
      "outputs": []
    },
    {
      "cell_type": "code",
      "metadata": {
        "id": "uze_lveNFcqn",
        "colab_type": "code",
        "colab": {}
      },
      "source": [
        "import nltk\n",
        "nltk.download('punkt')\n",
        "os.chdir('/content/pytorch-tutorial/tutorials/03-advanced/image_captioning/')\n",
        "!python build_vocab.py   \n",
        "!python resize.py"
      ],
      "execution_count": null,
      "outputs": []
    },
    {
      "cell_type": "code",
      "metadata": {
        "id": "4NTFB24AOcQ2",
        "colab_type": "code",
        "colab": {}
      },
      "source": [
        ""
      ],
      "execution_count": null,
      "outputs": []
    }
  ]
}